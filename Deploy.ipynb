{
 "cells": [
  {
   "cell_type": "markdown",
   "id": "2fc379fd-55c2-4ffa-8b5e-297e4c07e7ab",
   "metadata": {},
   "source": [
    "# Сервис: Чат-бот по анализу токсичных сообщений"
   ]
  },
  {
   "cell_type": "markdown",
   "id": "d45b7bc5-c06d-43ae-95f2-a6557a8af8b7",
   "metadata": {},
   "source": [
    "# 🎓 Шаг #1. Какая главные цели модели?! Какие ограничения?\n",
    "\n",
    "- Максимальная задержка ответа (меньше 0.01 секундны на один запрос)\n",
    "- Максимальный размер модели (до 1 GB)"
   ]
  },
  {
   "cell_type": "markdown",
   "id": "27c81e62-73e1-4707-a2b7-4e756a6d8eb1",
   "metadata": {},
   "source": [
    "# 📈 Шаг #2. Какая минимальная ML метрика?\n",
    "- Пусть для простоты определяющей ML метрикой будет `Precision` = 97% \n",
    "- Помните, что для реальных бизнес целей иногда важнее определиться с метрикой `Recall` или `Precision`, а не `Accuracy` (Не самая лучшая метрика). \n",
    "\n",
    "(Выбор между двумя последними завист от того, какая ошибка для нас важнее  - пропустить токсичное сообщение, или посчитать нормальное не токсичным)"
   ]
  },
  {
   "cell_type": "markdown",
   "id": "c693dc7d-dc6a-46d5-9128-32935619142c",
   "metadata": {},
   "source": [
    "# 🚚 Шаг #3. Выбор модели - Языковая модель BERT.\n",
    "\n",
    "<img src='https://images.squarespace-cdn.com/content/v1/56e2e0c520c6472a2586add2/1593683608007-L71NCKC2O54GFBHPB0W9/CP%2BLogos%2B2%2B%25288%2529.jpg' wide = 50>\n",
    "\n",
    "\n",
    "* Страна, где живут многие модели: https://huggingface.co\n",
    "\n",
    "* Нужная нам языковая модель: https://huggingface.co/SkolkovoInstitute/russian_toxicity_classifier?"
   ]
  },
  {
   "cell_type": "markdown",
   "id": "9575ed4e-4cd2-402f-be09-190f86e34406",
   "metadata": {},
   "source": [
    "### Запустим модель с huggingface"
   ]
  },
  {
   "cell_type": "code",
   "execution_count": 3,
   "id": "336c9d86-3540-4cc7-a6a9-e2822bde33a4",
   "metadata": {},
   "outputs": [],
   "source": [
    "from transformers import BertTokenizer, BertForSequenceClassification\n",
    "\n",
    "# Загружаем tokenizer и веса модели\n",
    "tokenizer = BertTokenizer.from_pretrained('SkolkovoInstitute/russian_toxicity_classifier')\n",
    "model = BertForSequenceClassification.from_pretrained('SkolkovoInstitute/russian_toxicity_classifier')"
   ]
  },
  {
   "cell_type": "markdown",
   "id": "563cf771-4ad6-467b-926a-c5b22b3192ef",
   "metadata": {},
   "source": [
    "### Модель есть, протестируем её теперь на реальных примерах"
   ]
  },
  {
   "cell_type": "code",
   "execution_count": 6,
   "id": "1b4b62f9-7458-42bf-9385-0a95d9ec0da9",
   "metadata": {},
   "outputs": [
    {
     "name": "stdout",
     "output_type": "stream",
     "text": [
      "CPU times: user 2 µs, sys: 0 ns, total: 2 µs\n",
      "Wall time: 4.05 µs\n",
      "[[ 0.26881275 -0.6409307 ]]\n"
     ]
    }
   ],
   "source": [
    "%time # Засекаем время работы модели\n",
    "\n",
    "text = 'Вау, ты просто супер!'\n",
    "\n",
    "batch = tokenizer.encode(text, return_tensors='pt')\n",
    "\n",
    "# inference\n",
    "response = model(batch).logits.detach().numpy()\n",
    "\n",
    "print(response)"
   ]
  },
  {
   "cell_type": "markdown",
   "id": "88261602-c12c-4ddb-9c00-dc450ca8b836",
   "metadata": {},
   "source": [
    "###  Оборачиваем модель в функцию"
   ]
  },
  {
   "cell_type": "code",
   "execution_count": 7,
   "id": "f73a2352-9dc6-41d2-b839-6cf8b63dda82",
   "metadata": {},
   "outputs": [
    {
     "data": {
      "text/plain": [
       "('сообщение не токсичное', 0.287)"
      ]
     },
     "execution_count": 7,
     "metadata": {},
     "output_type": "execute_result"
    }
   ],
   "source": [
    "import numpy as np\n",
    "\n",
    "def get_toxic_score(text):\n",
    "    \n",
    "    '''\n",
    "    Вспомогательная функция, которая по тексту определяет уровень его токсичности\n",
    "    '''\n",
    "    \n",
    "    batch = tokenizer.encode(text, return_tensors='pt')  # Используем модель\n",
    "    response = model(batch).logits.detach().numpy()  # Получаем прогноз модели\n",
    "    score = np.exp(response[0][1])/sum(np.exp(response[0])) # Оборачиваем в softmax для получения вероятности\n",
    "    \n",
    "    score = np.round(score, 3)\n",
    "    \n",
    "    if score > 0.6:\n",
    "        return 'токсичное сообщение', score\n",
    "    elif 0.10 >= score >= 0.60:\n",
    "        return 'сообщение средней токсичности', score\n",
    "    else:\n",
    "        return 'сообщение не токсичное', score\n",
    "    \n",
    "get_toxic_score(text)"
   ]
  },
  {
   "cell_type": "code",
   "execution_count": 8,
   "id": "a58eeb7d-6c33-4260-8bd3-1ea6681ccf55",
   "metadata": {},
   "outputs": [
    {
     "name": "stdout",
     "output_type": "stream",
     "text": [
      "CPU times: user 2 µs, sys: 0 ns, total: 2 µs\n",
      "Wall time: 4.05 µs\n"
     ]
    },
    {
     "data": {
      "text/plain": [
       "('сообщение не токсичное', 0.287)"
      ]
     },
     "execution_count": 8,
     "metadata": {},
     "output_type": "execute_result"
    }
   ],
   "source": [
    "%time # Замеряем время\n",
    "\n",
    "text = 'Вау, ты просто супер!'  # Позитивный пример текста\n",
    "get_toxic_score(text)"
   ]
  },
  {
   "cell_type": "code",
   "execution_count": 9,
   "id": "5cf0c6a8-4a4f-4e26-95e8-9d401e982b20",
   "metadata": {},
   "outputs": [
    {
     "data": {
      "text/plain": [
       "('токсичное сообщение', 0.941)"
      ]
     },
     "execution_count": 9,
     "metadata": {},
     "output_type": "execute_result"
    }
   ],
   "source": [
    "text = 'Это самое ужасное сообщение, ты худший автор !!!!! Ненавижу тебя!'  # Негативный пример текста\n",
    "get_toxic_score(text)"
   ]
  },
  {
   "cell_type": "code",
   "execution_count": 10,
   "id": "78503793-eeb1-4bf0-98d8-24e1611522ae",
   "metadata": {},
   "outputs": [
    {
     "data": {
      "text/plain": [
       "('сообщение не токсичное', 0.009)"
      ]
     },
     "execution_count": 10,
     "metadata": {},
     "output_type": "execute_result"
    }
   ],
   "source": [
    "text = 'Это канал Data Feeling! Автор канал Алерон Миленькин. Вот ссылка @datafeeling'  \n",
    "get_toxic_score(text)"
   ]
  },
  {
   "cell_type": "markdown",
   "id": "3afb35e6-8e57-44ed-9ccb-acb9bb6a8a13",
   "metadata": {},
   "source": [
    "# ✈️ Шаг #4. Создание сервиса (API). Обертка в Telegram чат-бота\n",
    "\n",
    "Ссылка https://pypi.org/project/pyTelegramBotAPI/#a-simple-echo-bot"
   ]
  },
  {
   "cell_type": "code",
   "execution_count": 11,
   "id": "ae19bdaa-fbb7-49c4-a0ef-d2b7bac9eee7",
   "metadata": {},
   "outputs": [],
   "source": [
    "!pip install pyTelegramBotAPI -q"
   ]
  },
  {
   "cell_type": "code",
   "execution_count": 12,
   "id": "d2774bb6-241b-4037-bcfa-d80772a02876",
   "metadata": {},
   "outputs": [],
   "source": [
    "import telebot\n",
    "\n",
    "from config import token"
   ]
  },
  {
   "cell_type": "code",
   "execution_count": 13,
   "id": "5046e124-e0af-4cc4-9273-e5f3d3d37f4a",
   "metadata": {},
   "outputs": [
    {
     "name": "stderr",
     "output_type": "stream",
     "text": [
      "2022-12-19 09:24:38,233 (__init__.py:970 MainThread) ERROR - TeleBot: \"Infinity polling: polling exited\"\n",
      "2022-12-19 09:24:38,233 (__init__.py:972 MainThread) ERROR - TeleBot: \"Break infinity polling\"\n"
     ]
    }
   ],
   "source": [
    "token= token\n",
    "bot=telebot.TeleBot(token)\n",
    "\n",
    "@bot.message_handler(commands=['start'])\n",
    "def start_message(message):\n",
    "    bot.send_message(message.chat.id, 'Привет')\n",
    "\n",
    "    \n",
    "@bot.message_handler(content_types='text')\n",
    "def message_reply(message):\n",
    "        \n",
    "    text, score = get_toxic_score(message.text)\n",
    "    \n",
    "    answer = f'{text} \\nПроцент токсичности: {score}'\n",
    "    \n",
    "    bot.send_message(message.chat.id, answer)\n",
    "    \n",
    "bot.infinity_polling() # запускаем бота, чтоб он работал вечно"
   ]
  },
  {
   "cell_type": "markdown",
   "id": "adcf682e-fd2c-4324-a9aa-f5bebfef6fce",
   "metadata": {},
   "source": [
    "# 🔥 Шаг #5. Деплой на сервис \n",
    "- Переносим свой проект на GitHub (https://github.com/a-milenkin/deep_learn_school_deploy) \n",
    "- Обязательно указываем нужные библиотеки в `requirements.txt`\n",
    "- Замечание: в данном примере для простты, установим библиотеки без использования виртуального кружения, но лучше так не делать\n",
    "\n"
   ]
  },
  {
   "cell_type": "code",
   "execution_count": null,
   "id": "fe346b9a-c99f-4057-ba10-f1e3c8456b0b",
   "metadata": {},
   "outputs": [],
   "source": []
  },
  {
   "cell_type": "markdown",
   "id": "1d8398b8-087d-4daa-94a4-b1788ee73cf9",
   "metadata": {},
   "source": [
    "# ⚙️ Деплой на сервис PythonAnywhere.com\n",
    "\n",
    "\n",
    "<img src='https://www.pythonanywhere.com/static/anywhere/images/PA-logo.svg' wide = 30>\n",
    "\n",
    "\n",
    "Ссылка: https://www.pythonanywhere.com/"
   ]
  },
  {
   "cell_type": "markdown",
   "id": "32b1ef9e-704f-469b-9db2-8480e90583fc",
   "metadata": {},
   "source": [
    "* Клонируем проект на сервер `git clone https://github.com/a-milenkin/deep_learn_school_deploy.git`\n",
    "* Входим в проект `cd deep_learn_school_deploy`\n",
    "* Устанавливаем нужные библиотеки `pip install requirements.txt`\n",
    "* Запускаем бота `python app.py`"
   ]
  },
  {
   "cell_type": "code",
   "execution_count": null,
   "id": "2c5f4410-afeb-4170-b593-648d571b6272",
   "metadata": {},
   "outputs": [],
   "source": []
  },
  {
   "cell_type": "markdown",
   "id": "ccd37e79-94e3-4746-a42a-d7fa5806926a",
   "metadata": {},
   "source": [
    "# ⚙️ Альтернативный деплой на сервис Railway.app \n",
    "\n",
    "<img src='https://railway.app/brand/logotype-dark.png' wide = 30>\n",
    "\n",
    "Ссылка https://railway.app/dashboard\n"
   ]
  },
  {
   "cell_type": "markdown",
   "id": "c4e17ee2-1b48-4369-98b7-f03357ad72d2",
   "metadata": {},
   "source": [
    "* Добавялем в проект файл без расширения с названием `Procfile` с одной строчкой `web: python app.py`\n",
    "* Авторизуемся через GitHub и деплоим проект. Все!\n",
    "* Возьмем еще более легкую модель"
   ]
  },
  {
   "cell_type": "code",
   "execution_count": null,
   "id": "772d2539-59c4-4e1c-bc9f-add7d06c883c",
   "metadata": {},
   "outputs": [],
   "source": []
  },
  {
   "cell_type": "code",
   "execution_count": null,
   "id": "acea0c38-304f-40b2-917f-51ec5aa760de",
   "metadata": {},
   "outputs": [],
   "source": [
    "import torch\n",
    "from transformers import AutoTokenizer, AutoModelForSequenceClassification\n",
    "\n",
    "model_checkpoint = 'cointegrated/rubert-tiny-toxicity'\n",
    "tokenizer = AutoTokenizer.from_pretrained(model_checkpoint)\n",
    "model = AutoModelForSequenceClassification.from_pretrained(model_checkpoint)\n",
    "    \n",
    "def get_toxic_score(text):\n",
    "    \"\"\" Calculate toxicity of a text (if aggregate=True) or a vector of toxicity aspects (if aggregate=False)\"\"\"\n",
    "    \n",
    "    batch = tokenizer(text, return_tensors='pt', truncation=True, padding=True).to(model.device)\n",
    "    response = model(**batch).logits.detach().numpy()\n",
    "    score = np.exp(response[0][0])/sum(np.exp(response[0]))\n",
    "    \n",
    "    score = np.round(1 - score, 3)\n",
    "    \n",
    "    if score > 0.6:\n",
    "        return 'токсичное сообщение', score\n",
    "    elif 0.10 >= score >= 0.60:\n",
    "        return 'сообщение средней токсичности', score\n",
    "    else:\n",
    "        return 'сообщение не токсичное', score\n",
    "\n",
    "print(get_toxic_score('я люблю тебя'))"
   ]
  },
  {
   "cell_type": "code",
   "execution_count": null,
   "id": "695a024c-50e6-417a-a117-30581d9f3212",
   "metadata": {},
   "outputs": [],
   "source": []
  },
  {
   "cell_type": "markdown",
   "id": "04eea58e-bf34-454d-a33c-55e1957dafde",
   "metadata": {},
   "source": [
    "# Дополнительный материал\n",
    "\n",
    "* Ссылкан готовый код на GitHub https://github.com/a-milenkin/deep_learn_school_deploy\n",
    "* Документация по **Pythonanywhere.com** и **Railway.app**\n",
    "* Более подобный тьюториал по Pythonanywhere - https://pythonhelp.ru/post/2018-11-24-pythonanywhere/\n",
    "* Гайди по Railway.app https://docs.railway.app/"
   ]
  },
  {
   "cell_type": "code",
   "execution_count": null,
   "id": "26898f53-0a06-4053-9cd9-44ddb3ede2dc",
   "metadata": {},
   "outputs": [],
   "source": []
  }
 ],
 "metadata": {
  "kernelspec": {
   "display_name": "Python 3 (ipykernel)",
   "language": "python",
   "name": "python3"
  },
  "language_info": {
   "codemirror_mode": {
    "name": "ipython",
    "version": 3
   },
   "file_extension": ".py",
   "mimetype": "text/x-python",
   "name": "python",
   "nbconvert_exporter": "python",
   "pygments_lexer": "ipython3",
   "version": "3.9.13"
  }
 },
 "nbformat": 4,
 "nbformat_minor": 5
}
